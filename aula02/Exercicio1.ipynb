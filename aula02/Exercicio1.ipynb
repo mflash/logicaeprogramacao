{
  "nbformat": 4,
  "nbformat_minor": 0,
  "metadata": {
    "colab": {
      "provenance": [],
      "collapsed_sections": []
    },
    "kernelspec": {
      "name": "python3",
      "display_name": "Python 3"
    },
    "language_info": {
      "name": "python"
    }
  },
  "cells": [
    {
      "cell_type": "code",
      "execution_count": 2,
      "metadata": {
        "colab": {
          "base_uri": "https://localhost:8080/"
        },
        "id": "t_R3FrUHpdBw",
        "outputId": "023f0f6d-1680-4b47-b090-4a030b9cd979"
      },
      "outputs": [
        {
          "output_type": "stream",
          "name": "stdout",
          "text": [
            "Informe um valor: \n",
            "2.5\n",
            "Quadrado do valor = 6.25\n",
            "Cubo do valor =  15.625\n",
            "Valor na quarta =  39.0625\n"
          ]
        }
      ],
      "source": [
        "print('Informe um valor: ')\n",
        "valor = float(input())\n",
        "print('Quadrado do valor =', valor**2)\n",
        "print('Cubo do valor = ', valor ** 3)\n",
        "print('Valor na quarta = ', valor ** 4)"
      ]
    }
  ]
}