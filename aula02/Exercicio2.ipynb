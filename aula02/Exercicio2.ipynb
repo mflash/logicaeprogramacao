{
  "nbformat": 4,
  "nbformat_minor": 0,
  "metadata": {
    "colab": {
      "provenance": [],
      "collapsed_sections": []
    },
    "kernelspec": {
      "name": "python3",
      "display_name": "Python 3"
    },
    "language_info": {
      "name": "python"
    }
  },
  "cells": [
    {
      "cell_type": "code",
      "execution_count": 2,
      "metadata": {
        "colab": {
          "base_uri": "https://localhost:8080/"
        },
        "id": "1-QrYpZ7q9Q2",
        "outputId": "ea1d846c-f09b-4238-e409-a07d4dbe656f"
      },
      "outputs": [
        {
          "output_type": "stream",
          "name": "stdout",
          "text": [
            "Informe o valor em farenheit:\n",
            "120.34\n",
            "Celsius: 49.07777777777778\n"
          ]
        }
      ],
      "source": [
        "print('Informe o valor em farenheit:')\n",
        "f = float(input())\n",
        "c = 5/9 * (f-32)\n",
        "print('Celsius:', c)"
      ]
    }
  ]
}