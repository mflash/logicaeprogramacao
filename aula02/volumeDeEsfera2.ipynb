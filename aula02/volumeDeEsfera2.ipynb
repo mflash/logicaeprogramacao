{
  "nbformat": 4,
  "nbformat_minor": 0,
  "metadata": {
    "colab": {
      "provenance": [],
      "collapsed_sections": []
    },
    "kernelspec": {
      "name": "python3",
      "display_name": "Python 3"
    },
    "language_info": {
      "name": "python"
    }
  },
  "cells": [
    {
      "cell_type": "code",
      "execution_count": 1,
      "metadata": {
        "colab": {
          "base_uri": "https://localhost:8080/"
        },
        "id": "wY6kuNcVo6Es",
        "outputId": "86241281-2535-41e0-afab-eeef315c766b"
      },
      "outputs": [
        {
          "output_type": "stream",
          "name": "stdout",
          "text": [
            "Informe o valor do raio:\n",
            "2\n",
            "Area da esfera:  50.26548245743669\n"
          ]
        }
      ],
      "source": [
        "import math\n",
        "\n",
        "print('Informe o valor do raio:')\n",
        "raio = float(input())\n",
        "area = 4 * math.pi * raio**2\n",
        "print('Area da esfera: ', area)"
      ]
    }
  ]
}