{
  "nbformat": 4,
  "nbformat_minor": 0,
  "metadata": {
    "colab": {
      "provenance": [],
      "collapsed_sections": []
    },
    "kernelspec": {
      "name": "python3",
      "display_name": "Python 3"
    },
    "language_info": {
      "name": "python"
    }
  },
  "cells": [
    {
      "cell_type": "code",
      "execution_count": 9,
      "metadata": {
        "colab": {
          "base_uri": "https://localhost:8080/"
        },
        "id": "M5WfPwGHugcN",
        "outputId": "f56f4c48-42ec-4106-f609-f828ef1c5579"
      },
      "outputs": [
        {
          "output_type": "stream",
          "name": "stdout",
          "text": [
            "Informe o tempo do evento em segundos: \n",
            "8100\n",
            "Horas: 2\n",
            "Minutos: 15\n",
            "Segundos:  0\n"
          ]
        }
      ],
      "source": [
        "print('Informe o tempo do evento em segundos: ')\n",
        "tempo = int(input())\n",
        "horas = tempo//3600\n",
        "print('Horas:', horas)\n",
        "resto = tempo%3600\n",
        "minutos = resto//60\n",
        "print('Minutos:', minutos)\n",
        "segundos = resto % 60\n",
        "print('Segundos: ', segundos)"
      ]
    }
  ]
}