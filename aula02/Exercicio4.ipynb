{
  "nbformat": 4,
  "nbformat_minor": 0,
  "metadata": {
    "colab": {
      "provenance": [],
      "collapsed_sections": []
    },
    "kernelspec": {
      "name": "python3",
      "display_name": "Python 3"
    },
    "language_info": {
      "name": "python"
    }
  },
  "cells": [
    {
      "cell_type": "code",
      "execution_count": 3,
      "metadata": {
        "colab": {
          "base_uri": "https://localhost:8080/"
        },
        "id": "MU36avRPwy7w",
        "outputId": "7a2435e3-34c9-4785-d13f-1db6baf1675b"
      },
      "outputs": [
        {
          "output_type": "stream",
          "name": "stdout",
          "text": [
            "Digite um valor inteiro de 4 digitos:\n",
            "3459\n",
            "Valor invertido:  9543\n"
          ]
        }
      ],
      "source": [
        "print('Digite um valor inteiro de 4 digitos:')\n",
        "valor = int(input())\n",
        "milhar = valor//1000\n",
        "resto = valor%1000\n",
        "centena = resto//100\n",
        "resto = resto%100\n",
        "dezena = resto//10\n",
        "unidade = resto%10\n",
        "print('Valor invertido: ', unidade*1000 + dezena*100 + centena*10 + milhar)"
      ]
    }
  ]
}