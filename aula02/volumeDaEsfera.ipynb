{
  "nbformat": 4,
  "nbformat_minor": 0,
  "metadata": {
    "colab": {
      "provenance": [],
      "collapsed_sections": []
    },
    "kernelspec": {
      "name": "python3",
      "display_name": "Python 3"
    },
    "language_info": {
      "name": "python"
    }
  },
  "cells": [
    {
      "cell_type": "code",
      "execution_count": 5,
      "metadata": {
        "colab": {
          "base_uri": "https://localhost:8080/"
        },
        "id": "Rytz4Kqknpf8",
        "outputId": "026ed951-4c35-4eed-e730-e7fbfa619f01"
      },
      "outputs": [
        {
          "output_type": "stream",
          "name": "stdout",
          "text": [
            "Informe o valor do raio:\n",
            "3\n",
            "Volume:  113.09733552923254\n"
          ]
        }
      ],
      "source": [
        "import math\n",
        "print('Informe o valor do raio:')\n",
        "raio = float(input())\n",
        "volume = 4/3 * math.pi * math.pow(raio,3)\n",
        "print('Volume: ', volume)"
      ]
    }
  ]
}