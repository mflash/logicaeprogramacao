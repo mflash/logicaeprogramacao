{
  "nbformat": 4,
  "nbformat_minor": 0,
  "metadata": {
    "colab": {
      "provenance": [],
      "collapsed_sections": []
    },
    "kernelspec": {
      "name": "python3",
      "display_name": "Python 3"
    },
    "language_info": {
      "name": "python"
    }
  },
  "cells": [
    {
      "cell_type": "code",
      "execution_count": 4,
      "metadata": {
        "colab": {
          "base_uri": "https://localhost:8080/"
        },
        "id": "MWfEVffasBY_",
        "outputId": "a5928abb-5471-4431-bff0-3cbba15ef95a"
      },
      "outputs": [
        {
          "output_type": "stream",
          "name": "stdout",
          "text": [
            "Informe o primeiro valor: \n",
            "10\n",
            "Informe o segundo valor:\n",
            "20\n",
            "Soma:  30\n",
            "Diferenca:  -10\n",
            "Media:  15.0\n",
            "Distancia:  10.0\n",
            "Maior:  20.0\n",
            "Menor:  10.0\n"
          ]
        }
      ],
      "source": [
        "import math\n",
        "\n",
        "print('Informe o primeiro valor: ')\n",
        "valor1 = int(input())\n",
        "print('Informe o segundo valor:')\n",
        "valor2 = int(input())\n",
        "print('Soma: ', valor1+valor2)\n",
        "print('Diferenca: ', valor1-valor2)\n",
        "print('Media: ', (valor1+valor2)/2)\n",
        "print('Distancia: ', math.fabs(valor1-valor2))\n",
        "print('Maior: ' , (valor1+valor2+math.fabs(valor1-valor2))/2)\n",
        "print('Menor: ' , (valor1+valor2-math.fabs(valor1-valor2))/2)"
      ]
    }
  ]
}