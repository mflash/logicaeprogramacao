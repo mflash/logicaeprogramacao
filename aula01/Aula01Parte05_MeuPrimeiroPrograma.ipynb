{
 "cells": [
  {
   "cell_type": "markdown",
   "metadata": {
    "id": "w1a-3Riremcn"
   },
   "source": [
    "# Lógica e Programação - Aula 01 - Parte 05\n",
    "## Graduação Online - PUCRS/UOL Edtech\n",
    "\n",
    "### Marcelo Cohen (marcelo.cohen@pucrs.br)\n",
    "### Sílvia Maria Wanderley Moraes (silvia.moraes@pucrs.br)\n"
   ]
  },
  {
   "cell_type": "code",
   "execution_count": 1,
   "metadata": {
    "colab": {
     "base_uri": "https://localhost:8080/"
    },
    "id": "FyXPvdTW-Vlh",
    "outputId": "ec590ee3-a032-41b4-85d6-bc494802b256"
   },
   "outputs": [
    {
     "name": "stdout",
     "output_type": "stream",
     "text": [
      "Olá Python!\n",
      "Olá Colab!\n"
     ]
    }
   ],
   "source": [
    "# Meu primeiro programa\n",
    "\n",
    "print(\"Olá Python!\") # ...\n",
    "print(\"Olá Colab!\")"
   ]
  }
 ],
 "metadata": {
  "colab": {
   "provenance": []
  },
  "kernelspec": {
   "display_name": "Python 3 (ipykernel)",
   "language": "python",
   "name": "python3"
  },
  "language_info": {
   "codemirror_mode": {
    "name": "ipython",
    "version": 3
   },
   "file_extension": ".py",
   "mimetype": "text/x-python",
   "name": "python",
   "nbconvert_exporter": "python",
   "pygments_lexer": "ipython3",
   "version": "3.9.7"
  }
 },
 "nbformat": 4,
 "nbformat_minor": 1
}
