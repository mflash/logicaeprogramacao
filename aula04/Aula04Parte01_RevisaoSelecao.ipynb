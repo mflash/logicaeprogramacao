{
  "cells": [
    {
      "cell_type": "markdown",
      "metadata": {
        "id": "view-in-github",
        "colab_type": "text"
      },
      "source": [
        "<a href=\"https://colab.research.google.com/github/mflash/logicaeprogramacao/blob/main/aula04/Aula04Parte01_RevisaoSelecao.ipynb\" target=\"_parent\"><img src=\"https://colab.research.google.com/assets/colab-badge.svg\" alt=\"Open In Colab\"/></a>"
      ]
    },
    {
      "cell_type": "markdown",
      "metadata": {
        "id": "w1a-3Riremcn"
      },
      "source": [
        "# Lógica e Programação - Aula 04 - Parte 01\n",
        "## Graduação Online - PUCRS/UOL Edtech\n",
        "\n",
        "### Marcelo Cohen (marcelo.cohen@pucrs.br)\n",
        "### Sílvia Maria Wanderley Moraes (silvia.moraes@pucrs.br)\n"
      ]
    },
    {
      "cell_type": "markdown",
      "source": [
        "## Seleção Simples\n",
        "\n",
        "Se a expressão lógica for **verdadeira**, executa um comando ou bloco de comandos."
      ],
      "metadata": {
        "id": "wz5Hq_MEPmKa"
      }
    },
    {
      "cell_type": "code",
      "execution_count": 2,
      "metadata": {
        "colab": {
          "base_uri": "https://localhost:8080/"
        },
        "id": "FyXPvdTW-Vlh",
        "outputId": "83b5e9ff-a1dc-4271-ac32-67d561137ca8"
      },
      "outputs": [
        {
          "output_type": "stream",
          "name": "stdout",
          "text": [
            "Digite um número: -10\n",
            "O número é negativo\n"
          ]
        }
      ],
      "source": [
        "# Seleção simples\n",
        "\n",
        "num = int(input(\"Digite um número: \"))\n",
        "if num < 0:\n",
        "  print(\"O número é negativo\")"
      ]
    },
    {
      "cell_type": "markdown",
      "source": [
        "## Seleção composta\n",
        "\n",
        "Se a expressão lógica for **verdadeira**, executa um comando ou bloco de comandos. Caso contrário, executa outro comando ou bloco."
      ],
      "metadata": {
        "id": "3-OBdHcLQMwZ"
      }
    },
    {
      "cell_type": "code",
      "source": [
        "# Seleção composta\n",
        "\n",
        "num = int(input(\"Digite um número: \"))\n",
        "if num % 2 == 0:\n",
        "  print(\"O número é par\")\n",
        "else:\n",
        "  print(\"O número é ímpar\")"
      ],
      "metadata": {
        "colab": {
          "base_uri": "https://localhost:8080/"
        },
        "id": "xeS14DdRQWvx",
        "outputId": "a9959922-a257-4f0c-fc92-6d78b14f0480"
      },
      "execution_count": 3,
      "outputs": [
        {
          "output_type": "stream",
          "name": "stdout",
          "text": [
            "Digite um número: 7\n",
            "O número é ímpar\n"
          ]
        }
      ]
    }
  ],
  "metadata": {
    "colab": {
      "provenance": [],
      "include_colab_link": true
    },
    "kernelspec": {
      "display_name": "Python 3 (ipykernel)",
      "language": "python",
      "name": "python3"
    },
    "language_info": {
      "codemirror_mode": {
        "name": "ipython",
        "version": 3
      },
      "file_extension": ".py",
      "mimetype": "text/x-python",
      "name": "python",
      "nbconvert_exporter": "python",
      "pygments_lexer": "ipython3",
      "version": "3.9.7"
    }
  },
  "nbformat": 4,
  "nbformat_minor": 0
}